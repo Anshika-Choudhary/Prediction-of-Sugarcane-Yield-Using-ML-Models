{
  "nbformat": 4,
  "nbformat_minor": 0,
  "metadata": {
    "colab": {
      "provenance": [],
      "authorship_tag": "ABX9TyM0IXUX0v2RavBF3qBYE5nM",
      "include_colab_link": true
    },
    "kernelspec": {
      "name": "python3",
      "display_name": "Python 3"
    },
    "language_info": {
      "name": "python"
    }
  },
  "cells": [
    {
      "cell_type": "markdown",
      "metadata": {
        "id": "view-in-github",
        "colab_type": "text"
      },
      "source": [
        "<a href=\"https://colab.research.google.com/github/Anshika-Choudhary/Prediction-of-Sugarcane-Yield-Using-ML-Models/blob/main/DATA_WRANGLING_.ipynb\" target=\"_parent\"><img src=\"https://colab.research.google.com/assets/colab-badge.svg\" alt=\"Open In Colab\"/></a>"
      ]
    },
    {
      "cell_type": "markdown",
      "source": [
        "Muzaffarnagar\n"
      ],
      "metadata": {
        "id": "XroHqKR3DhzV"
      }
    },
    {
      "cell_type": "code",
      "source": [
        "import pandas as pd\n",
        "df = pd.read_csv('/content/MOD13Q1-061-Statistics_(2)[1].csv')\n",
        "\n",
        "#  Drop  columns\n",
        "columns_to_keep = ['Dataset','Date', 'Mean']\n",
        "df = df[columns_to_keep]\n",
        "\n",
        "# Create separate columns for NDVI Mean and EVI Mean\n",
        "\n",
        "df['EVI Mean'] = df.apply(lambda row: row['Mean'] if 'EVI' in row['Dataset'] else None, axis=1)\n",
        "df['NDVI Mean'] = df.apply(lambda row: row['Mean'] if 'NDVI' in row['Dataset'] else None, axis=1)\n",
        "\n",
        "# Drop the original Mean column\n",
        "df.drop(columns=['Mean'], inplace=True)\n",
        "\n",
        "# Convert Date column to datetime\n",
        "df['Date'] = pd.to_datetime(df['Date'])\n",
        "# Extract year and month for grouping\n",
        "df['Year'] = df['Date'].dt.year\n",
        "df['Month'] = df['Date'].dt.month\n",
        "\n",
        "# Group by Year and Month and calculate monthly mean for both NDVI and EVI\n",
        "monthly_avg = df.groupby(['Year', 'Month']).agg({\n",
        "    'NDVI Mean': 'mean',\n",
        "    'EVI Mean': 'mean'\n",
        "}).reset_index()\n",
        " # Add a new column for District\n",
        "monthly_avg['District'] = 'Muzaffarnagar'\n",
        "# Optional: Save monthly means to new CSV\n",
        "monthly_avg.to_csv(\"muzaffarnagar_monthly_ndvi_evi_means.csv\", index=False)"
      ],
      "metadata": {
        "id": "KPtdS3oy-P6Y"
      },
      "execution_count": null,
      "outputs": []
    },
    {
      "cell_type": "code",
      "source": [
        "import pandas as pd\n",
        "df = pd.read_csv('/content/MOD15A2H-061-Statistics_(1)[1].csv')\n",
        "\n",
        "#  Drop  columns\n",
        "columns_to_keep = ['Dataset','Date', 'Mean']\n",
        "df = df[columns_to_keep]\n",
        "\n",
        "# Create separate columns for Fpar Mean and Lai Mean\n",
        "\n",
        "df['Fpar Mean'] = df.apply(lambda row: row['Mean'] if 'Fpar' in row['Dataset'] else None, axis=1)\n",
        "df['Lai Mean'] = df.apply(lambda row: row['Mean'] if 'Lai' in row['Dataset'] else None, axis=1)\n",
        "\n",
        "# Drop the original Mean column\n",
        "df.drop(columns=['Mean'], inplace=True)\n",
        "\n",
        "# Convert Date column to datetime\n",
        "df['Date'] = pd.to_datetime(df['Date'])\n",
        "# Extract year and month for grouping\n",
        "df['Year'] = df['Date'].dt.year\n",
        "df['Month'] = df['Date'].dt.month\n",
        "\n",
        "# Group by Year and Month and calculate monthly mean for both Fpar and Lai\n",
        "monthly_avg = df.groupby(['Year', 'Month']).agg({\n",
        "    'Fpar Mean': 'mean',\n",
        "    'Lai Mean': 'mean'\n",
        "}).reset_index()\n",
        " # Add a new column for District\n",
        "monthly_avg['District'] = 'Muzaffarnagar'\n",
        "# Optional: Save monthly means to new CSV\n",
        "monthly_avg.to_csv(\"muzaffarnagar_monthly_fpar_lai_means.csv\", index=False)"
      ],
      "metadata": {
        "id": "dBFjShkNEIze"
      },
      "execution_count": null,
      "outputs": []
    },
    {
      "cell_type": "code",
      "source": [
        "import pandas as pd\n",
        "df = pd.read_csv('/content/MOD16A2GF-061-Statistics_(1)[1].csv')\n",
        "\n",
        "#  Drop  columns\n",
        "columns_to_keep = ['Dataset','Date', 'Mean']\n",
        "df = df[columns_to_keep]\n",
        "\n",
        "# Create separate columns for ET Mean\n",
        "\n",
        "df['ET Mean'] = df.apply(lambda row: row['Mean'] if 'ET' in row['Dataset'] else None, axis=1)\n",
        "\n",
        "# Drop the original Mean column\n",
        "df.drop(columns=['Mean'], inplace=True)\n",
        "\n",
        "# Convert Date column to datetime\n",
        "df['Date'] = pd.to_datetime(df['Date'])\n",
        "# Extract year and month for grouping\n",
        "df['Year'] = df['Date'].dt.year\n",
        "df['Month'] = df['Date'].dt.month\n",
        "\n",
        "# Group by Year and Month and calculate monthly mean for ET\n",
        "monthly_avg = df.groupby(['Year', 'Month']).agg({\n",
        "    'ET Mean': 'mean',\n",
        "\n",
        "}).reset_index()\n",
        " # Add a new column for District\n",
        "monthly_avg['District'] = 'Muzaffarnagar'\n",
        "# Optional: Save monthly means to new CSV\n",
        "monthly_avg.to_csv(\"muzaffarnagar_monthly_et_means.csv\", index=False)"
      ],
      "metadata": {
        "id": "8CFd-3OMEJBw"
      },
      "execution_count": null,
      "outputs": []
    },
    {
      "cell_type": "code",
      "source": [
        "import pandas as pd\n",
        "df = pd.read_csv('/content/MOD17A2HGF-061-Statistics_(1)[1].csv')\n",
        "\n",
        "#  Drop  columns\n",
        "columns_to_keep = ['Dataset','Date', 'Mean']\n",
        "df = df[columns_to_keep]\n",
        "\n",
        "# Create separate columns for Gpp Mean\n",
        "\n",
        "df['Gpp Mean'] = df.apply(lambda row: row['Mean'] if 'Gpp' in row['Dataset'] else None, axis=1)\n",
        "\n",
        "# Drop the original Mean column\n",
        "df.drop(columns=['Mean'], inplace=True)\n",
        "\n",
        "# Convert Date column to datetime\n",
        "df['Date'] = pd.to_datetime(df['Date'])\n",
        "# Extract year and month for grouping\n",
        "df['Year'] = df['Date'].dt.year\n",
        "df['Month'] = df['Date'].dt.month\n",
        "\n",
        "# Group by Year and Month and calculate monthly mean for Gpp\n",
        "monthly_avg = df.groupby(['Year', 'Month']).agg({\n",
        "    'Gpp Mean': 'mean',\n",
        "\n",
        "}).reset_index()\n",
        " # Add a new column for District\n",
        "monthly_avg['District'] = 'Muzaffarnagar'\n",
        "# Optional: Save monthly means to new CSV\n",
        "monthly_avg.to_csv(\"muzaffarnagar_monthly_gpp_means.csv\", index=False)"
      ],
      "metadata": {
        "id": "JaWYIVfSEJn7"
      },
      "execution_count": null,
      "outputs": []
    },
    {
      "cell_type": "code",
      "source": [
        "\n",
        "files = ['/content/muzaffarnagar_monthly_et_means.csv','/content/muzaffarnagar_monthly_fpar_lai_means.csv','/content/muzaffarnagar_monthly_gpp_means.csv','/content/muzaffarnagar_monthly_ndvi_evi_means.csv']\n",
        "\n",
        "# Read all files into a list of DataFrames\n",
        "dfs = [pd.read_csv(file) for file in files]\n",
        "\n",
        "# Merge all DataFrames on common column (e.g., 'ID')\n",
        "from functools import reduce\n",
        "merged_df = reduce(lambda left, right: pd.merge(left, right, on=[\"Year\",\"Month\",\"District\"], how='inner'), dfs)\n",
        "\n",
        "# Save the merged DataFrame\n",
        "merged_df.to_csv(\"muzaffarnagar_final.csv\", index=False)\n"
      ],
      "metadata": {
        "id": "VuMkyi4CI8C7"
      },
      "execution_count": null,
      "outputs": []
    }
  ]
}